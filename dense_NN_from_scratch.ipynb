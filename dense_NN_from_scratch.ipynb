{
 "cells": [
  {
   "cell_type": "markdown",
   "metadata": {},
   "source": [
    "#### Objectives and set-up\n",
    "​\n",
    "My main objective for this assignment is to familiarise with the concept of neural network by trying implementing a fully connected (dense) NN from scratch. In particular, I wanted to:\n",
    "+ compute the derivations of gradients with backpropagation\n",
    "+ experiment using softmax as the activation function for the output layer and cross-entropy as the loss function\n",
    "+ explore gradient descent, minibatch gradient descent and gradient descent with momentum as optimisation techniques\n",
    "​\n",
    "\n",
    "My NN tries addressing a multi-classification problem. It takes as input 16x16pxl digit images from the MNIST database and tries predicting the correspondent label between 0 and 9. I make use of two hidden layers of 128 neurons each and an output layer of 10 neurons.\n",
    "​"
   ]
  },
  {
   "cell_type": "markdown",
   "metadata": {},
   "source": [
    "#### Notation\n",
    "​\n",
    "Output layer: neurons k = 1,...,10 <br>\n",
    "Hidden layer (2): neurons j = 1,...,128 <br>\n",
    "Hidden layer (1): neurons i = 1,...,128<br>\n",
    "Input: m = 1,...,64<br>\n",
    "Weights: w_{k,j} with k next layer, j previous layer\n",
    "​\n",
    "    \n",
    "​\n",
    "#### Computing the gradients for one observation\n",
    "​\n",
    "##### Output layer\n",
    "​\n",
    "Loss function:\n",
    "​\n",
    "\\begin{equation}\n",
    "L = -\\sum_{k=1}^{10}y_klog{(z_k^{(3)})} \n",
    "\\end{equation}\n",
    "​\n",
    "where:\n",
    "​\n",
    "\\begin{equation}\n",
    "z_k^{(3)} = \\frac{e^{a_k^{(3)}}}{\\sum_{k=1}^{10}e^{a_k^{(3)}}}\\\\\n",
    "\\end{equation}\n",
    "\\begin{equation}\n",
    "a_k^{(3)} = \\sum_{j=1}^{128}w_{kj}^{(3)}z_j^{(2)}\n",
    "\\end{equation}\n",
    "​\n",
    "By chain-rule, derivatives for the weights connecting the second to the third layer can be obtained as follows:\n",
    "​\n",
    "\\begin{equation}\n",
    "\\frac{\\partial L}{\\partial w_{kj}^{(3)}} =\n",
    "( \\sum_{k'=1}^{10}\\frac{\\partial L}{\\partial z_{k'}^{(3)}}\n",
    "\\frac{\\partial z_{k'}^{(3)}}{\\partial a_k^{(3)}})\n",
    "\\frac{\\partial a_k^{(3)}}{\\partial w_{kj}^{(3)}}\n",
    "\\end{equation}\n",
    "​\n",
    "where:\n",
    "\\begin{equation}\n",
    "\\begin{split}\n",
    "\\frac{\\partial a_k^{(3)}}{\\partial w_{kj}^{(3)}} = z_j^{(2)}\\\\\n",
    "\\frac{\\partial z_k^{(3)}}{\\partial a_k^{(3)}} = z_k^{(3)} (1 - z_k^{(3)})\\\\\n",
    "\\frac{\\partial z_{k'}^{(3)}}{\\partial a_k^{(3)}} = -z_{k'}^{(3)} z_k^{(3)} \\text{ for k'} \\neq \\text{k}\\\\\n",
    " \\sum_{k'=1}^{10}\\frac{\\partial L}{\\partial z_{k'}^{(3)}}\n",
    "\\frac{\\partial z_{k'}^{(3)}}{\\partial a_k^{(3)}} = -y_k(1-z_{k}^{(3)})+z_{k}^{(3)}\\sum_{k'\\neq k}y_{k'} = z_{k}^{(3)} - y_k\n",
    "\\end{split}\n",
    "\\end{equation}\n",
    "​\n",
    "Thus we obtain:\n",
    "\\begin{equation}\n",
    "\\frac{\\partial L}{\\partial w_{kj}^{(3)}} = (z_{k}^{(3)} - y_k)z_j^{(2)}\n",
    "\\end{equation}\n",
    "​\n",
    "​\n",
    "##### Hidden layer (2)\n",
    "​\n",
    "Similarly, by chain-rule, derivatives for the weights connecting the first to the second layer can be obtained as follows:\n",
    "​\n",
    "\\begin{equation}\n",
    "\\frac{\\partial L}{\\partial w_{ji}^{(2)}} =\n",
    "\\frac{\\partial L}{\\partial z_{j}^{(2)}}\n",
    "\\frac{\\partial z_{j}^{(2)}}{\\partial a_j^{(2)}}\n",
    "\\frac{\\partial a_j^{(2)}}{\\partial w_{ji}^{(2)}}\n",
    "\\end{equation}\n",
    "​\n",
    "where:\n",
    "​\n",
    "\\begin{equation}\n",
    "z_j^{(2)} = \\sigma(a_j^{(2)})=\\frac{1}{1+e^{-a_j{(2)}}}\\\\\n",
    "\\end{equation}\n",
    "​\n",
    "\\begin{equation}\n",
    "a_j^{(2)} = \\sum_{i=1}^{128}w_{ji}^{(2)}z_i^{(2)}\n",
    "\\end{equation}\n",
    "​\n",
    "We can solve each block in the following way:\n",
    "​\n",
    "\\begin{equation}\n",
    "\\begin{split}\n",
    "\\frac{\\partial a_j^{(2)}}{\\partial w_{ji}^{(2)}} = z_i^{(1)}\\\\\n",
    "\\frac{\\partial z_{j}^{(2)}}{\\partial a_j^{(2)}} = \\sigma(a_{j}^{(2)})(1-\\sigma(a_{j}^{(2)})) = z_{j}^{(2)}(1-z_{j}^{(2)})\\\\\n",
    "\\frac{\\partial L}{\\partial z_{j}^{(2)}} = \n",
    "\\sum_{k'=1}^{10}\\frac{\\partial L}{\\partial z_{k'}^{(3)}}\n",
    "\\frac{\\partial z_{k'}^{(3)}}{\\partial a_{k'}^{(3)}}\n",
    "\\frac{\\partial a_{k'}^{(3)}}{\\partial z_{j}^{(2)}} = \n",
    "\\sum_{k'=1}^{10}(z_{k'}^{(3)} - y_{k'})w_{k'j}^{(3)}\\\\\n",
    "\\end{split}\n",
    "\\end{equation}\n",
    "​\n",
    "Thus we obtain:\n",
    "\\begin{equation}\n",
    "\\frac{\\partial L}{\\partial w_{ji}^{(2)}} =\n",
    "(\\sum_{k'=1}^{10}(z_{k'}^{(3)} - y_{k'})w_{k'j}^{(3)})\n",
    "z_{j}^{(2)}(1-z_{j}^{(2)})\n",
    "z_i^{(1)}\n",
    "\\end{equation}\n",
    "​\n",
    "##### Hidden layer (1)\n",
    "​\n",
    "Finally, for weights from the input to the first layer:\n",
    "​\n",
    "\\begin{equation}\n",
    "\\frac{\\partial L}{\\partial w_{im}^{(1)}} =\n",
    "\\frac{\\partial L}{\\partial z_{i}^{(1)}}\n",
    "\\frac{\\partial z_{i}^{(1)}}{\\partial a_i^{(1)}}\n",
    "\\frac{\\partial a_i^{(1)}}{\\partial w_{im}^{(1)}}\n",
    "\\end{equation}\n",
    "​\n",
    "where:\n",
    "​\n",
    "\\begin{equation}\n",
    "z_i^{(1)} = \\sigma(a_i^{(1)})=\\frac{1}{1+e^{-a_i{(1)}}}\\\\\n",
    "\\end{equation}\n",
    "​\n",
    "\\begin{equation}\n",
    "a_i^{(1)} = \\sum_{m=1}^{64}w_{im}^{(2)}x_m\n",
    "\\end{equation}\n",
    "​\n",
    "​\n",
    "We can solve each block in the following way:\n",
    "​\n",
    "\\begin{equation}\n",
    "\\begin{split}\n",
    "\\frac{\\partial a_1^{(1)}}{\\partial w_{im}^{(1)}} = x_m\\\\\n",
    "\\frac{\\partial z_{i}^{(1)}}{\\partial a_i^{(1)}} = \\sigma(a_{i}^{(1)})(1-\\sigma(a_{i}^{(1)})) = z_{i}^{(1)}(1-z_{i}^{(1)})\\\\\n",
    "\\frac{\\partial L}{\\partial z_{i}^{(1)}} = \n",
    "\\sum_{j'=1}^{100}\\frac{\\partial L}{\\partial z_{j'}^{(2)}}\n",
    "\\frac{\\partial z_{j'}^{(2)}}{\\partial a_{j'}^{(2)}}\n",
    "\\frac{\\partial a_{j'}^{(2)}}{\\partial z_{i}^{(1)}} = \n",
    "\\sum_{j'=1}^{100}(\\sum_{k'=1}^{10}(z_{k'}^{(3)} - y_{k'})w_{k'j'}^{(3)})z_{j'}^{(2)}(1-z_{j'}^{(2)}) w_{j'i}^{(2)}\\\\\n",
    "\\end{split}\n",
    "\\end{equation}\n",
    "​\n",
    "Thus we obtain:\n",
    "\\begin{equation}\n",
    "\\frac{\\partial L}{\\partial w_{im}^{(1)}} =\n",
    "\\sum_{j'=1}^{100}\n",
    "(\\sum_{k'=1}^{10}(z_{k'}^{(3)} - y_{k'})w_{k'j'}^{(3)})\n",
    "z_{j'}^{(2)}(1-z_{j'}^{(2)})\n",
    "w_{j'i}^{(2)}\n",
    "z_{i}^{(1)}(1-z_{i}^{(1)})\n",
    "x_m\n",
    "\\end{equation}\n",
    "​\n",
    "#### Weight update\n",
    "​\n",
    "The loss function for the whole X data matrix is just the sum of the loss functions for each observation. It follows that its gradient with respect to the weights is also the sum of the derivatives. It is thus convenient to represent gradients for the loss function for input digits 1,...,n in matricial form:\n",
    "​\n",
    "\n",
    "\\begin{equation}\n",
    "\\frac{\\partial L}{\\partial W^{(3)}} = (\\underset{10\\times n}Z^{(3)}-\\underset{10\\times n}Y^{T})\\underset{n\\times 128}Z^{(2)}\n",
    "\\end{equation}\n",
    "​\n",
    "\\begin{equation}\n",
    "\\frac{\\partial L}{\\partial W^{(2)}} = \\left[\\underset{128\\times 10}W^{(3)T}(\\underset{10\\times n}Z^{(3)}-\\underset{10\\times n}Y^{T})*\\left[\\sigma(\\underset{128\\times n}Z^{(2)})(1-\\sigma(\\underset{128\\times n}Z^{(2)})\\right]\\right]\\underset{n\\times 128}Z^{(1)T}\n",
    "\\end{equation}\n",
    "​\n",
    "\\begin{equation}\n",
    "\\frac{\\partial L}{\\partial W^{(1)}} = \\underset{128\\times 128}W^{(2)T}\\left[\\underset{128\\times 10}W^{(3)T}(\\underset{10\\times n}Z^{(3)}-\\underset{10\\times n}Y^{T})*\\left[\\sigma(\\underset{128\\times n}Z^{(2)})(1-\\sigma(\\underset{128\\times n}Z^{(2)})\\right]\\right]*\\left[\\sigma(\\underset{128\\times n}Z^{(1)})(1-\\sigma(\\underset{128\\times n}Z^{(1)})\\right]\\underset{n\\times 64}X\n",
    "\\end{equation}\n",
    "​\n",
    "\n",
    "where * indicates the pairwise product.\n",
    "​\n",
    "The gradient descent updates are thus the following:\n",
    "​\n",
    "\n",
    "\\begin{equation}\n",
    "\\begin{split}\n",
    "W^{(3)}_{t+1} = W^{(3)}_{t} - lr*\\frac{\\partial L}{\\partial W^{(3)_{t}}} \\\\\n",
    "W^{(2)}_{t+1} = W^{(2)}_{t} - lr*\\frac{\\partial L}{\\partial W^{(2)_{t}}} \\\\\n",
    "W^{(1)}_{t+1} = W^{(1)}_{t} - lr*\\frac{\\partial L}{\\partial W^{(1)_{t}}} \\\\\n",
    "\\end{split}\n",
    "\\end{equation}\n",
    "​\n",
    "where lr is the chosen learning rate."
   ]
  },
  {
   "cell_type": "code",
   "execution_count": 562,
   "metadata": {},
   "outputs": [],
   "source": [
    "#Relevant packages\n",
    "import numpy as np\n",
    "import pandas as pd\n",
    "import matplotlib.pyplot as plt\n",
    "from sklearn.model_selection import train_test_split\n",
    "import matplotlib.image as mpimg\n",
    "from sklearn.datasets import load_digits\n",
    "import time"
   ]
  },
  {
   "cell_type": "code",
   "execution_count": 88,
   "metadata": {},
   "outputs": [],
   "source": [
    "dig = load_digits()\n",
    "y = np.array(pd.get_dummies(dig.target))\n",
    "X = dig.data\n",
    "X_train, X_test, y_train, y_test = train_test_split(X, y, test_size=0.1, random_state=20)"
   ]
  },
  {
   "cell_type": "code",
   "execution_count": 89,
   "metadata": {},
   "outputs": [],
   "source": [
    "#Rescaling\n",
    "X_train = X_train/16.0\n",
    "X_test = X_test/16.0"
   ]
  },
  {
   "cell_type": "code",
   "execution_count": 5,
   "metadata": {},
   "outputs": [
    {
     "data": {
      "text/plain": [
       "<matplotlib.image.AxesImage at 0x110f76550>"
      ]
     },
     "execution_count": 5,
     "metadata": {},
     "output_type": "execute_result"
    },
    {
     "data": {
      "image/png": "[encoded data removed]",
      "text/plain": [
       "<Figure size 288x288 with 1 Axes>"
      ]
     },
     "metadata": {
      "needs_background": "light"
     },
     "output_type": "display_data"
    }
   ],
   "source": [
    "plt.matshow(X_train[40].reshape(8,8))"
   ]
  },
  {
   "cell_type": "code",
   "execution_count": 554,
   "metadata": {},
   "outputs": [],
   "source": [
    "def sigmoid(a):\n",
    "    return 1/(1 + np.exp(-a))\n",
    "\n",
    "def softmax(z_vec):\n",
    "    exps = np.exp(z_vec-np.max(z_vec, axis = 0,keepdims=True)) #shifted softmax to avoid exp(0)\n",
    "    return exps/np.sum(exps, axis=0, keepdims=True)\n",
    "\n",
    "def sigmoid_deriv(a):\n",
    "    return a*(1-a)\n",
    "\n",
    "def cross_entropy(y,y_hat):\n",
    "    return -np.sum(np.multiply(y,np.log(y_hat)))/y.shape[0]\n",
    "    \n"
   ]
  },
  {
   "cell_type": "code",
   "execution_count": 550,
   "metadata": {},
   "outputs": [],
   "source": [
    "def feedforward(X, W1, W2,W3):\n",
    "    a1 = W1@X.T\n",
    "    z1 = sigmoid(a1) #(128,len(y))\n",
    "    \n",
    "    a2 = W2@z1\n",
    "    z2 = sigmoid(a2) #(128,len(y))\n",
    "    \n",
    "    a3 = W3@z2\n",
    "    z3 = softmax(a3) #(10,len(y))\n",
    "    return z1,z2,z3"
   ]
  },
  {
   "cell_type": "code",
   "execution_count": 555,
   "metadata": {},
   "outputs": [],
   "source": [
    "def backprop(X,y,W3,W2,W1,z1,z2,z3,lr):\n",
    "    dL_dW3=0\n",
    "    dL_dW2=0\n",
    "    dL_dW1=0\n",
    "    \n",
    "    #Outer layer\n",
    "    z3_delta = (z3 - y.T)/y_train.shape[0] #matrix (k,obs) = (10, n)\n",
    "    dL_dW3 += z3_delta@z2.T  #matrix (k,j) = (10,100) \n",
    "    \n",
    "    \n",
    "    #Hidden layer (2)\n",
    "    dL_z2 = W3.T@z3_delta #matrix (j,obs) = (128,n) \n",
    "    dL_a2 = dL_z2*sigmoid_deriv(z2) #pairwise product: matrix (j,obs) = (128,n) \n",
    "    dL_dW2 += dL_a2@z1.T #matrix (j,i) = (128,128) \n",
    "    \n",
    "    \n",
    "    #Hidden layer (1)\n",
    "    dL_z1= W2.T@dL_a2 #matrix (i, obs) = (128, len(y)) \n",
    "    dL_a1 = dL_z1*sigmoid_deriv(z1) #pairwise product: matrix (i, obs) = (128, n)\n",
    "    dL_dW1 += dL_a1@X #matrix (i,m) = (100,64) \n",
    "\n",
    "    return dL_dW3,dL_dW2,dL_dW1"
   ]
  },
  {
   "cell_type": "code",
   "execution_count": null,
   "metadata": {},
   "outputs": [],
   "source": [
    "def predict(X_oneobs,W3,W2,W1):\n",
    "    z1,z2,z3 = feedforward(X_oneobs, W1, W2,W3)\n",
    "    return z3.argmax()\n",
    "\n",
    "def get_acc(X, y,W3,W2,W1):\n",
    "    acc = 0\n",
    "    for X_oneobs,y_oneobs in zip(X, y):\n",
    "        s = predict(X_oneobs, W3,W2,W1)\n",
    "        if s == np.argmax(y_oneobs):\n",
    "            acc +=1\n",
    "    return acc/len(X)*100"
   ]
  },
  {
   "cell_type": "markdown",
   "metadata": {},
   "source": [
    "#### Gradient descent"
   ]
  },
  {
   "cell_type": "markdown",
   "metadata": {},
   "source": [
    "I first tried simply implementing gradient descent on the whole dataset:"
   ]
  },
  {
   "cell_type": "code",
   "execution_count": 680,
   "metadata": {},
   "outputs": [],
   "source": [
    "#All training set\n",
    "neurons_hiddenlr = 128\n",
    "lr = 0.5\n",
    "epochs = 300\n",
    "np.random.seed(136)\n",
    "\n",
    "W1 = np.random.randn(neurons_hiddenlr, X_train.shape[1])\n",
    "W2 = np.random.randn(neurons_hiddenlr, neurons_hiddenlr)\n",
    "W3 = np.random.randn(y_train.shape[1],neurons_hiddenlr)\n",
    "loss = []\n",
    "\n",
    "time_start = time.perf_counter()\n",
    "for e in range(1,epochs):\n",
    "    z1,z2,z3 = feedforward(X_train, W1, W2,W3)\n",
    "    dL_dW3,dL_dW2,dL_dW1 = backprop(X_train,y_train,W3,W2,W1,z1,z2,z3,lr)\n",
    "    loss.append(cross_entropy(y_train,z3.T))\n",
    "\n",
    "    W3-= lr*dL_dW3\n",
    "    W2-= lr*dL_dW2\n",
    "    W1-= lr*dL_dW1\n",
    "time_elapsed = time.perf_counter()-time_start"
   ]
  },
  {
   "cell_type": "markdown",
   "metadata": {},
   "source": [
    "As we can see, the loss function shows an exponential behavior and already drops to values close to zero after 25 epochs:"
   ]
  },
  {
   "cell_type": "code",
   "execution_count": 649,
   "metadata": {},
   "outputs": [
    {
     "data": {
      "image/png": "[encoded data removed]",
      "text/plain": [
       "<Figure size 432x288 with 1 Axes>"
      ]
     },
     "metadata": {
      "needs_background": "light"
     },
     "output_type": "display_data"
    }
   ],
   "source": [
    "plt.plot(loss)\n",
    "plt.title('Gradient descent: Total loss as a function of epochs')\n",
    "plt.xlabel('epochs')\n",
    "plt.ylabel('Loss')\n",
    "plt.show()"
   ]
  },
  {
   "cell_type": "markdown",
   "metadata": {},
   "source": [
    "As a result, accuracy is pretty high on train and test set after 200 epochs:"
   ]
  },
  {
   "cell_type": "code",
   "execution_count": 681,
   "metadata": {},
   "outputs": [
    {
     "name": "stdout",
     "output_type": "stream",
     "text": [
      "Accuracy on train set:  99.01051329622759\n",
      "Accuracy on test set:  96.11111111111111\n",
      "Time elapsed: 4.561187310995592\n"
     ]
    }
   ],
   "source": [
    "print(\"Accuracy on train set: \", get_acc(X_train,y_train,W3,W2,W1))\n",
    "print(\"Accuracy on test set: \", get_acc(X_test,y_test,W3,W2,W1))\n",
    "print(\"Time elapsed:\", time_elapsed)"
   ]
  },
  {
   "cell_type": "markdown",
   "metadata": {},
   "source": [
    "#### Minibatch gradient descent"
   ]
  },
  {
   "cell_type": "markdown",
   "metadata": {},
   "source": [
    "However, for larger datasets this optimisation technique might be computationally unfeasible. I thus tried implementing a minibatch gradient descent where the dataset is first reshuffled and then batched, and weight update is done iteratively over all batches. My expectation is that the algorithm will be faster, with comparable accuracy."
   ]
  },
  {
   "cell_type": "code",
   "execution_count": 694,
   "metadata": {},
   "outputs": [],
   "source": [
    "#With minibatch gradient descent\n",
    "neurons_hiddenlr = 128\n",
    "lr = 0.5\n",
    "batch_size = 200\n",
    "obs = y_train.shape[0]\n",
    "np.random.seed(16)\n",
    "\n",
    "W1 = np.random.randn(neurons_hiddenlr, X_train.shape[1])\n",
    "W2 = np.random.randn(neurons_hiddenlr, neurons_hiddenlr)\n",
    "W3 = np.random.randn(y_train.shape[1],neurons_hiddenlr)\n",
    "\n",
    "loss = []\n",
    "time_start = time.perf_counter()\n",
    "\n",
    "for i in range(300):\n",
    "    permutation = np.random.permutation(X_train.shape[0])\n",
    "    X_train_shuffled = X_train[permutation]\n",
    "    y_train_shuffled = y_train[permutation]\n",
    "    for b in range(0,obs,batch_size):\n",
    "        X = X_train_shuffled[b:b+batch_size]\n",
    "        y = y_train_shuffled[b:b+batch_size]\n",
    "        \n",
    "        z1,z2,z3 = feedforward(X, W1,W2,W3)\n",
    "        dL_dW3,dL_dW2,dL_dW1 = backprop(X,y,W3,W2,W1,z1,z2,z3,lr)\n",
    "        \n",
    "        W3-= lr*dL_dW3\n",
    "        W2-= lr*dL_dW2\n",
    "        W1-= lr*dL_dW1\n",
    "        \n",
    "        loss.append(cross_entropy(y,z3.T)) \n",
    "time_elapsed = time.perf_counter()-time_start"
   ]
  },
  {
   "cell_type": "markdown",
   "metadata": {},
   "source": [
    "We can see that the loss converges to zero slower than in the first case:"
   ]
  },
  {
   "cell_type": "code",
   "execution_count": 683,
   "metadata": {},
   "outputs": [
    {
     "data": {
      "image/png": "[encoded data removed]",
      "text/plain": [
       "<Figure size 432x288 with 1 Axes>"
      ]
     },
     "metadata": {
      "needs_background": "light"
     },
     "output_type": "display_data"
    }
   ],
   "source": [
    "plt.plot(loss)\n",
    "plt.title('Minibatch gradient descent: Total loss as a function of epochs')\n",
    "plt.xlabel('epochs')\n",
    "plt.ylabel('Loss')\n",
    "plt.show()"
   ]
  },
  {
   "cell_type": "markdown",
   "metadata": {},
   "source": [
    "Accuracy is comparable (slightly higher) but surprisingly the algorithm is slower. My guess is that the reshuffling takes up for the additional time in this case."
   ]
  },
  {
   "cell_type": "code",
   "execution_count": 695,
   "metadata": {},
   "outputs": [
    {
     "name": "stdout",
     "output_type": "stream",
     "text": [
      "Accuracy on train set:  99.13419913419914\n",
      "Accuracy on test set:  95.55555555555556\n",
      "Time elapsed: 5.181228951005323\n"
     ]
    }
   ],
   "source": [
    "print(\"Accuracy on train set: \", get_acc(X_train,y_train,W3,W2,W1))\n",
    "print(\"Accuracy on test set: \", get_acc(X_test,y_test,W3,W2,W1))\n",
    "print(\"Time elapsed:\", time_elapsed)"
   ]
  },
  {
   "cell_type": "markdown",
   "metadata": {},
   "source": [
    "#### Minibatch gradient descent with momentum"
   ]
  },
  {
   "cell_type": "markdown",
   "metadata": {},
   "source": [
    "In order to investigate different optimisation techniques, I implemented a minibatch gradient descent adding some momentum. My aim was to see whether performance showed an improvement as a result."
   ]
  },
  {
   "cell_type": "code",
   "execution_count": 696,
   "metadata": {},
   "outputs": [],
   "source": [
    "# With minibatch gradient descent and momentum:\n",
    "neurons_hiddenlr = 128\n",
    "lr = 0.5\n",
    "batch_size = 200\n",
    "obs = y_train.shape[0]\n",
    "np.random.seed(14)\n",
    "\n",
    "W1 = np.random.randn(neurons_hiddenlr, X_train.shape[1])\n",
    "W2 = np.random.randn(neurons_hiddenlr, neurons_hiddenlr)\n",
    "W3 = np.random.randn(y_train.shape[1],neurons_hiddenlr)\n",
    "\n",
    "V_dW1 = np.zeros(W1.shape)\n",
    "V_dW2 = np.zeros(W2.shape)\n",
    "V_dW3 = np.zeros(W3.shape)\n",
    "\n",
    "beta = 0.7\n",
    "\n",
    "loss = []\n",
    "time_start = time.perf_counter()\n",
    "\n",
    "for i in range(300):\n",
    "    permutation = np.random.permutation(X_train.shape[0])\n",
    "    X_train_shuffled = X_train[permutation]\n",
    "    y_train_shuffled = y_train[permutation]\n",
    "    for b in range(0,obs,batch_size):\n",
    "        X = X_train_shuffled[b:b+batch_size]\n",
    "        y = y_train_shuffled[b:b+batch_size]\n",
    "        \n",
    "        z1,z2,z3 = feedforward(X, W1,W2,W3)\n",
    "        dL_dW3,dL_dW2,dL_dW1 = backprop(X,y,W3,W2,W1,z1,z2,z3,lr)\n",
    "        \n",
    "        V_dW1 = (beta * V_dW1 + (1. - beta) * dL_dW1)\n",
    "        V_dW2 = (beta * V_dW2 + (1. - beta) * dL_dW2)\n",
    "        V_dW3 = (beta * V_dW3 + (1. - beta) * dL_dW3)\n",
    "        \n",
    "        W3-= lr*V_dW3\n",
    "        W2-= lr*V_dW2 \n",
    "        W1-= lr*V_dW1\n",
    "        \n",
    "        loss.append(cross_entropy(y,z3.T)) \n",
    "time_elapsed = time.perf_counter()-time_start"
   ]
  },
  {
   "cell_type": "code",
   "execution_count": 667,
   "metadata": {},
   "outputs": [
    {
     "data": {
      "image/png": "[encoded data removed]",
      "text/plain": [
       "<Figure size 432x288 with 1 Axes>"
      ]
     },
     "metadata": {
      "needs_background": "light"
     },
     "output_type": "display_data"
    }
   ],
   "source": [
    "plt.plot(loss)\n",
    "plt.title('Total loss as a function of epochs')\n",
    "plt.xlabel('epochs')\n",
    "plt.ylabel('Loss')\n",
    "plt.show()"
   ]
  },
  {
   "cell_type": "markdown",
   "metadata": {},
   "source": [
    "Interestingly, there is no gain in accuracy, while time elapsed is slightly higher:"
   ]
  },
  {
   "cell_type": "code",
   "execution_count": 697,
   "metadata": {},
   "outputs": [
    {
     "name": "stdout",
     "output_type": "stream",
     "text": [
      "Accuracy on train set:  98.76314162028447\n",
      "Accuracy on test set:  94.44444444444444\n",
      "Time elapsed: 5.328477880000719\n"
     ]
    }
   ],
   "source": [
    "print(\"Accuracy on train set: \", get_acc(X_train,y_train,W3,W2,W1))\n",
    "print(\"Accuracy on test set: \", get_acc(X_test,y_test,W3,W2,W1))\n",
    "print(\"Time elapsed:\", time_elapsed)"
   ]
  },
  {
   "cell_type": "markdown",
   "metadata": {},
   "source": [
    "#### Performance as a function of batch size"
   ]
  },
  {
   "cell_type": "markdown",
   "metadata": {},
   "source": [
    "I was also curious to check performance as a function of the batch size. To this end, I use the minibatch gradient descent without momentum, as momentum has not given a sensible improvement to the algorithm in this case."
   ]
  },
  {
   "cell_type": "code",
   "execution_count": null,
   "metadata": {},
   "outputs": [],
   "source": [
    "#minibatch gradient descent for different batch sizes\n",
    "neurons_hiddenlr = 128\n",
    "lr = 0.5\n",
    "obs = y_train.shape[0]\n",
    "\n",
    "W1 = np.random.randn(neurons_hiddenlr, X_train.shape[1])\n",
    "W2 = np.random.randn(neurons_hiddenlr, neurons_hiddenlr)\n",
    "W3 = np.random.randn(y_train.shape[1],neurons_hiddenlr)\n",
    "np.random.seed(12)\n",
    "\n",
    "loss_by_batchsize = {}\n",
    "time_by_batchsize = {}\n",
    "for bs in range(1,1000,50):\n",
    "    loss = []\n",
    "    time_start = time.perf_counter()\n",
    "    for i in range(300):\n",
    "        permutation = np.random.permutation(X_train.shape[0])\n",
    "        X_train_shuffled = X_train[permutation]\n",
    "        y_train_shuffled = y_train[permutation]\n",
    "        for b in range(0,obs,bs):\n",
    "            X = X_train_shuffled[b:b+bs]\n",
    "            y = y_train_shuffled[b:b+bs]\n",
    "\n",
    "            z1,z2,z3 = feedforward(X, W1,W2,W3)\n",
    "            dL_dW3,dL_dW2,dL_dW1 = backprop(X,y,W3,W2,W1,z1,z2,z3,lr)\n",
    "\n",
    "            W3-= lr*dL_dW3\n",
    "            W2-= lr*dL_dW2\n",
    "            W1-= lr*dL_dW1\n",
    "\n",
    "            loss.append(cross_entropy(y,z3.T)) \n",
    "    time_by_batchsize[f'{bs}'] = (time.perf_counter() - time_start)\n",
    "    loss_by_batchsize[f'{bs}'] = np.mean(loss)"
   ]
  },
  {
   "cell_type": "markdown",
   "metadata": {},
   "source": [
    "We can see that as batch size increases the average loss seems to decrease, while the time elapsed shows an increasing trend, thus representing a trade-off:"
   ]
  },
  {
   "cell_type": "code",
   "execution_count": 594,
   "metadata": {},
   "outputs": [
    {
     "data": {
      "image/png": "[encoded data removed]",
      "text/plain": [
       "<Figure size 1008x504 with 2 Axes>"
      ]
     },
     "metadata": {
      "needs_background": "light"
     },
     "output_type": "display_data"
    }
   ],
   "source": [
    "fig, (ax1,ax2) = plt.subplots(1, 2,  constrained_layout=True,figsize=(14,7))\n",
    "\n",
    "ax1.plot(list(time_by_batchsize.keys()), list(time_by_batchsize.values()))\n",
    "ax1.set_title('Time elapsed by batch size')\n",
    "ax1.set_ylabel('Average time')\n",
    "ax1.set_xlabel('Batch size')\n",
    "\n",
    "ax2.plot(list(loss_by_batchsize.keys()), list(loss_by_batchsize.values()))\n",
    "ax2.set_title('Average loss by batch size')\n",
    "ax2.set_ylabel('Average loss')\n",
    "ax2.set_xlabel('Batch size')\n",
    "plt.show()"
   ]
  }
 ],
 "metadata": {
  "kernelspec": {
   "display_name": "Python 3",
   "language": "python",
   "name": "python3"
  },
  "language_info": {
   "codemirror_mode": {
    "name": "ipython",
    "version": 3
   },
   "file_extension": ".py",
   "mimetype": "text/x-python",
   "name": "python",
   "nbconvert_exporter": "python",
   "pygments_lexer": "ipython3",
   "version": "3.8.3"
  },
  "toc": {
   "base_numbering": 1,
   "nav_menu": {},
   "number_sections": true,
   "sideBar": true,
   "skip_h1_title": false,
   "title_cell": "Table of Contents",
   "title_sidebar": "Contents",
   "toc_cell": false,
   "toc_position": {},
   "toc_section_display": true,
   "toc_window_display": false
  }
 },
 "nbformat": 4,
 "nbformat_minor": 2
}
